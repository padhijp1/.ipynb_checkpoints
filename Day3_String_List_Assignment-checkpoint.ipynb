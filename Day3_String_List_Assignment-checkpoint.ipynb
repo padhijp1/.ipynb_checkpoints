{
 "cells": [
  {
   "cell_type": "code",
   "execution_count": 1,
   "metadata": {},
   "outputs": [
    {
     "name": "stdout",
     "output_type": "stream",
     "text": [
      "Enter the string: hello ball\n",
      "Enter the letter: l\n",
      "4\n"
     ]
    }
   ],
   "source": [
    "'''Write a script that obtains the count of a user inputted letter in a user \n",
    "inputted string (Hint: Use input() twice to get both of the user inputs). Make sure \n",
    "to build this in such a way that it ignores the case of the inputted string and letter.'''\n",
    "\n",
    "inp1, inp2 = input('Enter the string: '), input('Enter the letter: ')\n",
    "i = inp1.count(inp2)\n",
    "print (i)"
   ]
  },
  {
   "cell_type": "code",
   "execution_count": 3,
   "metadata": {},
   "outputs": [
    {
     "name": "stdout",
     "output_type": "stream",
     "text": [
      "Enter the string: Hello WORLD\n",
      "hello world\n"
     ]
    }
   ],
   "source": [
    "'''Write a script that checks if a user inputted string ends in an exclamation point. If it does, then print the string in \n",
    "all capital letters. If it doesn't, print the string in all lowercase letters.'''\n",
    "\n",
    "inp1 = str(input('Enter the string: '))\n",
    "inp2 = '!'\n",
    "if inp1[-1] == inp2:\n",
    "    inp1 = inp1.upper()\n",
    "else: \n",
    "    inp1 = inp1.lower()    \n",
    "print(inp1)"
   ]
  },
  {
   "cell_type": "code",
   "execution_count": 4,
   "metadata": {},
   "outputs": [
    {
     "name": "stdout",
     "output_type": "stream",
     "text": [
      "Enter the string: My God\n",
      "My Gd\n"
     ]
    }
   ],
   "source": [
    "'''Write a script that removes all of the vowels in a user inputted string.'''\n",
    "\n",
    "inp1 = str(input('Enter the string: '))\n",
    "inp2 = 'aeiouAEIOU'\n",
    "for char in inp1:\n",
    "     if char in inp2:\n",
    "         inp1 = inp1.replace(char,'')\n",
    "print (inp1)"
   ]
  },
  {
   "cell_type": "code",
   "execution_count": 6,
   "metadata": {},
   "outputs": [
    {
     "name": "stdout",
     "output_type": "stream",
     "text": [
      "Enter the string: my name is jyotirmay\n",
      "My nAmE Is jYoTiRmAy\n"
     ]
    }
   ],
   "source": [
    "'''Write a script that makes every other letter of a user inputted string capitalized.'''\n",
    "\n",
    "inp1 = str(input('Enter the string: '))\n",
    "inp2 = ''\n",
    "for i in range(len(inp1)):\n",
    "    if i % 2 == 0:\n",
    "        inp2 += inp1[i].upper()\n",
    "    else:\n",
    "        inp2 += inp1[i].lower()\n",
    "        \n",
    "print (inp2)\n",
    "    \n",
    "        \n"
   ]
  },
  {
   "cell_type": "code",
   "execution_count": 11,
   "metadata": {},
   "outputs": [
    {
     "name": "stdout",
     "output_type": "stream",
     "text": [
      "Enter a number- 7\n",
      "[2, 4, 6]\n"
     ]
    }
   ],
   "source": [
    "'''Write a script that creates a list of only the even numbers between 0 and a user inputted number'''\n",
    "\n",
    "list1 = []\n",
    "inp1 = int(input('Enter a number- '))\n",
    "for n in range(1,inp1+1):\n",
    "    if n%2 == 0:\n",
    "        list1 += [n]\n",
    "\n",
    "print (list1)"
   ]
  },
  {
   "cell_type": "code",
   "execution_count": 4,
   "metadata": {},
   "outputs": [
    {
     "name": "stdout",
     "output_type": "stream",
     "text": [
      "Enter the maximum number - 198\n",
      "Enter the divisor5\n",
      "[5, 10, 15, 20, 25, 30, 35, 40, 45, 50, 55, 60, 65, 70, 75, 80, 85, 90, 95, 100, 105, 110, 115, 120, 125, 130, 135, 140, 145, 150, 155, 160, 165, 170, 175, 180, 185, 190, 195]\n"
     ]
    }
   ],
   "source": [
    "'''Write a script that creates a list of only numbers divisible by a user inputted number that are between 0 and a user\n",
    "inputted number (Hint: Use input() twice to get both of the user inputs).'''\n",
    "\n",
    "max1 = int(input('Enter the maximum number - '))\n",
    "fac1 = int(input('Enter the divisor'))\n",
    "list1 = []\n",
    "\n",
    "for n in range (1, max1//fac1+1):\n",
    "    list1 += [fac1*n]\n",
    "    \n",
    "print(list1)\n",
    "    \n"
   ]
  },
  {
   "cell_type": "code",
   "execution_count": null,
   "metadata": {
    "collapsed": true
   },
   "outputs": [],
   "source": []
  }
 ],
 "metadata": {
  "kernelspec": {
   "display_name": "Python 3",
   "language": "python",
   "name": "python3"
  },
  "language_info": {
   "codemirror_mode": {
    "name": "ipython",
    "version": 3
   },
   "file_extension": ".py",
   "mimetype": "text/x-python",
   "name": "python",
   "nbconvert_exporter": "python",
   "pygments_lexer": "ipython3",
   "version": "3.6.3"
  }
 },
 "nbformat": 4,
 "nbformat_minor": 2
}
